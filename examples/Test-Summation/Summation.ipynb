{
 "cells": [
  {
   "cell_type": "code",
   "execution_count": null,
   "metadata": {},
   "outputs": [],
   "source": [
    "from legion.toolchain.metrics import Metric\n",
    "from legion.toolchain import model\n",
    "\n",
    "import store"
   ]
  },
  {
   "cell_type": "code",
   "execution_count": null,
   "metadata": {},
   "outputs": [],
   "source": [
    "model.init('test summation', '1.0')\n",
    "model.define_property('number.pow', 1)\n",
    "model.define_property('number.pow_of_ten', 1)\n",
    "\n",
    "\n",
    "def on_new_properties():    \n",
    "    store.state_pow = model.properties.get('number.pow_of_ten', cast=model.int32) \n",
    "        \n",
    "                \n",
    "model.on_property_change(on_new_properties)"
   ]
  },
  {
   "cell_type": "code",
   "execution_count": null,
   "metadata": {},
   "outputs": [],
   "source": [
    "def calculate_sum(x):\n",
    "    return int(x['a']) + int(x['b'])\n",
    "\n",
    "\n",
    "def calculate_sum_and_pow(x):\n",
    "    return (10 ** store.state_pow) * ((x['a'] + x['b']) ** model.properties.get('number.pow', cast=model.int32))"
   ]
  },
  {
   "cell_type": "code",
   "execution_count": null,
   "metadata": {},
   "outputs": [],
   "source": [
    "model.send_metric(Metric.TEST_ACCURACY, 100.0)"
   ]
  },
  {
   "cell_type": "code",
   "execution_count": null,
   "metadata": {},
   "outputs": [],
   "source": [
    "model.export_untyped(lambda x: {'result': int(calculate_sum(x))})\n",
    "\n",
    "model.export(lambda x: {'result': int(calculate_sum_and_pow(x))}, {\n",
    "    'a': model.int32,\n",
    "    'b': model.int32\n",
    "}, endpoint='sum_and_pow')\n",
    "\n",
    "model.save()"
   ]
  }
 ],
 "metadata": {
  "kernelspec": {
   "display_name": "Python 3",
   "language": "python",
   "name": "python3"
  },
  "language_info": {
   "codemirror_mode": {
    "name": "ipython",
    "version": 3
   },
   "file_extension": ".py",
   "mimetype": "text/x-python",
   "name": "python",
   "nbconvert_exporter": "python",
   "pygments_lexer": "ipython3",
   "version": "3.5.2"
  }
 },
 "nbformat": 4,
 "nbformat_minor": 2
}
